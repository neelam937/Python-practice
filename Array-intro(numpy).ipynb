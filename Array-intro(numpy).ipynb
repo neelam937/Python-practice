{
 "cells": [
  {
   "cell_type": "markdown",
   "metadata": {},
   "source": [
    "# ARRAY"
   ]
  },
  {
   "cell_type": "code",
   "execution_count": 5,
   "metadata": {},
   "outputs": [],
   "source": [
    "import numpy as np\n",
    "import array"
   ]
  },
  {
   "cell_type": "code",
   "execution_count": 6,
   "metadata": {},
   "outputs": [
    {
     "data": {
      "text/plain": [
       "list"
      ]
     },
     "execution_count": 6,
     "metadata": {},
     "output_type": "execute_result"
    }
   ],
   "source": [
    "L=[1,2,3,'apple',2.4]\n",
    "type(L)"
   ]
  },
  {
   "cell_type": "code",
   "execution_count": 7,
   "metadata": {},
   "outputs": [
    {
     "data": {
      "text/plain": [
       "[1, 2, 3, 'apple', 2.4, 1, 2, 3, 'apple', 2.4]"
      ]
     },
     "execution_count": 7,
     "metadata": {},
     "output_type": "execute_result"
    }
   ],
   "source": [
    "L+L"
   ]
  },
  {
   "cell_type": "code",
   "execution_count": 11,
   "metadata": {},
   "outputs": [
    {
     "data": {
      "text/plain": [
       "array([2, 4, 6, 8])"
      ]
     },
     "execution_count": 11,
     "metadata": {},
     "output_type": "execute_result"
    }
   ],
   "source": [
    "A=np.array([1,2,3,4])\n",
    "type(A)\n",
    "A+A"
   ]
  },
  {
   "cell_type": "code",
   "execution_count": 17,
   "metadata": {},
   "outputs": [
    {
     "data": {
      "text/plain": [
       "array([[2, 3, 5],\n",
       "       [3, 5, 7],\n",
       "       [6, 8, 9]])"
      ]
     },
     "execution_count": 17,
     "metadata": {},
     "output_type": "execute_result"
    }
   ],
   "source": [
    "A=np.array([[2,3,5],[3,5,7],[6,8,9]])\n",
    "A"
   ]
  },
  {
   "cell_type": "code",
   "execution_count": 16,
   "metadata": {},
   "outputs": [
    {
     "data": {
      "text/plain": [
       "array([[0, 0, 0],\n",
       "       [0, 0, 0],\n",
       "       [0, 0, 0]])"
      ]
     },
     "execution_count": 16,
     "metadata": {},
     "output_type": "execute_result"
    }
   ],
   "source": [
    "O=np.array([[0,0,0],[0,0,0],[0,0,0]])\n",
    "O"
   ]
  },
  {
   "cell_type": "code",
   "execution_count": 18,
   "metadata": {},
   "outputs": [
    {
     "data": {
      "text/plain": [
       "array([[0., 0., 0., 0.],\n",
       "       [0., 0., 0., 0.],\n",
       "       [0., 0., 0., 0.],\n",
       "       [0., 0., 0., 0.]])"
      ]
     },
     "execution_count": 18,
     "metadata": {},
     "output_type": "execute_result"
    }
   ],
   "source": [
    "O=np.zeros([4,4])\n",
    "O"
   ]
  },
  {
   "cell_type": "code",
   "execution_count": 20,
   "metadata": {},
   "outputs": [
    {
     "data": {
      "text/plain": [
       "array([[1., 1., 1.],\n",
       "       [1., 1., 1.]])"
      ]
     },
     "execution_count": 20,
     "metadata": {},
     "output_type": "execute_result"
    }
   ],
   "source": [
    "I=np.ones([2,3])\n",
    "I"
   ]
  },
  {
   "cell_type": "code",
   "execution_count": 23,
   "metadata": {},
   "outputs": [
    {
     "data": {
      "text/plain": [
       "array([[1., 0., 0., 0.],\n",
       "       [0., 1., 0., 0.],\n",
       "       [0., 0., 1., 0.],\n",
       "       [0., 0., 0., 1.]])"
      ]
     },
     "execution_count": 23,
     "metadata": {},
     "output_type": "execute_result"
    }
   ],
   "source": [
    "np.eye(4)"
   ]
  },
  {
   "cell_type": "code",
   "execution_count": 26,
   "metadata": {},
   "outputs": [
    {
     "data": {
      "text/plain": [
       "array([[0.31887393, 0.64795465, 0.91966787, 0.40834547, 0.45097049],\n",
       "       [0.16790022, 0.69076292, 0.11015946, 0.41621387, 0.21072294],\n",
       "       [0.21982616, 0.60966423, 0.6146652 , 0.60111033, 0.06427282],\n",
       "       [0.09927939, 0.57224672, 0.58337558, 0.56041997, 0.48901233],\n",
       "       [0.89509023, 0.14447625, 0.60880785, 0.60469347, 0.38111621]])"
      ]
     },
     "execution_count": 26,
     "metadata": {},
     "output_type": "execute_result"
    }
   ],
   "source": [
    "X=np.random.rand(5,5)\n",
    "X"
   ]
  },
  {
   "cell_type": "code",
   "execution_count": 27,
   "metadata": {},
   "outputs": [
    {
     "data": {
      "text/plain": [
       "array([[-1.50032702,  0.2389678 ,  0.32938063, -0.3822228 ,  0.60319224],\n",
       "       [-1.13972886,  0.11076162,  0.90097197, -0.5407952 ,  0.18095801],\n",
       "       [-1.06412725, -0.32731165, -0.84921522,  0.64474591, -0.87857188],\n",
       "       [-0.54388438,  0.54130561, -0.0066314 , -0.13856795,  0.04246831],\n",
       "       [-1.86032874,  0.80605214,  0.40775282, -1.14077683,  0.29832196]])"
      ]
     },
     "execution_count": 27,
     "metadata": {},
     "output_type": "execute_result"
    }
   ],
   "source": [
    "X=np.random.randn(5,5)\n",
    "X"
   ]
  },
  {
   "cell_type": "code",
   "execution_count": 28,
   "metadata": {},
   "outputs": [
    {
     "data": {
      "text/plain": [
       "array([[ 1,  3,  4],\n",
       "       [ 2,  4,  7],\n",
       "       [ 3, 11,  9]])"
      ]
     },
     "execution_count": 28,
     "metadata": {},
     "output_type": "execute_result"
    }
   ],
   "source": [
    "X=np.array([[1,3,4],[2,4,7],[3,11,9]])\n",
    "X"
   ]
  },
  {
   "cell_type": "code",
   "execution_count": 35,
   "metadata": {},
   "outputs": [
    {
     "data": {
      "text/plain": [
       "(7, array([ 3, 11,  9]), array([ 3,  4, 11]), 4, array([[2, 4, 7]]))"
      ]
     },
     "execution_count": 35,
     "metadata": {},
     "output_type": "execute_result"
    }
   ],
   "source": [
    "X[1,2],X[2,:],X[:,1],X[0,2],X[1:2]"
   ]
  },
  {
   "cell_type": "code",
   "execution_count": 36,
   "metadata": {},
   "outputs": [
    {
     "data": {
      "text/plain": [
       "3"
      ]
     },
     "execution_count": 36,
     "metadata": {},
     "output_type": "execute_result"
    }
   ],
   "source": [
    "X[0,1]"
   ]
  },
  {
   "cell_type": "code",
   "execution_count": 38,
   "metadata": {},
   "outputs": [
    {
     "data": {
      "text/plain": [
       "(7, 23)"
      ]
     },
     "execution_count": 38,
     "metadata": {},
     "output_type": "execute_result"
    }
   ],
   "source": [
    "LL=[[1,23,4],[2,4,7],[3,7,9]]\n",
    "LL[1][2],LL[0][1]"
   ]
  },
  {
   "cell_type": "markdown",
   "metadata": {},
   "source": [
    "## Array Indexing"
   ]
  },
  {
   "cell_type": "code",
   "execution_count": 42,
   "metadata": {},
   "outputs": [
    {
     "data": {
      "text/plain": [
       "array([[0.75296632, 0.95181136, 0.30021827, 0.68535502, 0.68661316],\n",
       "       [0.31675064, 0.37482088, 0.90467357, 0.15389041, 0.10560889],\n",
       "       [0.36278258, 0.9945388 , 0.52119681, 0.31625873, 0.09388857],\n",
       "       [0.71775655, 0.40164419, 0.31202443, 0.43791404, 0.1673301 ],\n",
       "       [0.49041243, 0.98114958, 0.84711562, 0.81504365, 0.14549473]])"
      ]
     },
     "execution_count": 42,
     "metadata": {},
     "output_type": "execute_result"
    }
   ],
   "source": [
    "X=np.random.rand(5,5) #all members between o and 1 chosen randomly\n",
    "X"
   ]
  },
  {
   "cell_type": "code",
   "execution_count": 40,
   "metadata": {},
   "outputs": [
    {
     "data": {
      "text/plain": [
       "array([0.72115772, 0.31112134, 0.15512397, 0.78140742, 0.73140217])"
      ]
     },
     "execution_count": 40,
     "metadata": {},
     "output_type": "execute_result"
    }
   ],
   "source": [
    "X[1]"
   ]
  },
  {
   "cell_type": "code",
   "execution_count": 43,
   "metadata": {},
   "outputs": [
    {
     "data": {
      "text/plain": [
       "0.3162587287857427"
      ]
     },
     "execution_count": 43,
     "metadata": {},
     "output_type": "execute_result"
    }
   ],
   "source": [
    "X[2,3]"
   ]
  },
  {
   "cell_type": "code",
   "execution_count": 44,
   "metadata": {},
   "outputs": [
    {
     "data": {
      "text/plain": [
       "array([[0.36278258, 0.9945388 , 0.52119681, 0.31625873, 0.09388857],\n",
       "       [0.71775655, 0.40164419, 0.31202443, 0.43791404, 0.1673301 ],\n",
       "       [0.49041243, 0.98114958, 0.84711562, 0.81504365, 0.14549473]])"
      ]
     },
     "execution_count": 44,
     "metadata": {},
     "output_type": "execute_result"
    }
   ],
   "source": [
    "X[2:]"
   ]
  },
  {
   "cell_type": "code",
   "execution_count": 45,
   "metadata": {},
   "outputs": [
    {
     "data": {
      "text/plain": [
       "array([0.95181136, 0.37482088, 0.9945388 , 0.40164419, 0.98114958])"
      ]
     },
     "execution_count": 45,
     "metadata": {},
     "output_type": "execute_result"
    }
   ],
   "source": [
    "X[:,1]"
   ]
  },
  {
   "cell_type": "code",
   "execution_count": 46,
   "metadata": {},
   "outputs": [
    {
     "data": {
      "text/plain": [
       "array([0.68535502, 0.15389041, 0.31625873, 0.43791404, 0.81504365])"
      ]
     },
     "execution_count": 46,
     "metadata": {},
     "output_type": "execute_result"
    }
   ],
   "source": [
    "X[:,3]"
   ]
  },
  {
   "cell_type": "code",
   "execution_count": 47,
   "metadata": {},
   "outputs": [
    {
     "data": {
      "text/plain": [
       "array([[0.90467357, 0.15389041],\n",
       "       [0.52119681, 0.31625873]])"
      ]
     },
     "execution_count": 47,
     "metadata": {},
     "output_type": "execute_result"
    }
   ],
   "source": [
    "X[1:3,2:4]"
   ]
  },
  {
   "cell_type": "code",
   "execution_count": 48,
   "metadata": {},
   "outputs": [
    {
     "name": "stdout",
     "output_type": "stream",
     "text": [
      "0.7529663204708228\n",
      "0.374820884100904\n",
      "0.5211968066919254\n",
      "0.43791404186907956\n",
      "0.14549472689270637\n"
     ]
    }
   ],
   "source": [
    "for i in range(5):\n",
    "    for j in range(5):\n",
    "        if i==j:\n",
    "            print(X[i,j])"
   ]
  },
  {
   "cell_type": "code",
   "execution_count": 49,
   "metadata": {},
   "outputs": [
    {
     "data": {
      "text/plain": [
       "array([0.75296632, 0.37482088, 0.52119681, 0.43791404, 0.14549473])"
      ]
     },
     "execution_count": 49,
     "metadata": {},
     "output_type": "execute_result"
    }
   ],
   "source": [
    "np.diag(X)"
   ]
  },
  {
   "cell_type": "markdown",
   "metadata": {},
   "source": [
    "## Visualization of an array"
   ]
  },
  {
   "cell_type": "code",
   "execution_count": 50,
   "metadata": {},
   "outputs": [],
   "source": [
    "import matplotlib.pyplot as plt\n",
    "import seaborn as sns\n",
    "sns.set()"
   ]
  },
  {
   "cell_type": "code",
   "execution_count": 55,
   "metadata": {},
   "outputs": [],
   "source": [
    "X=np.random.rand(10,10)"
   ]
  },
  {
   "cell_type": "code",
   "execution_count": 56,
   "metadata": {},
   "outputs": [
    {
     "data": {
      "text/plain": [
       "<matplotlib.axes._subplots.AxesSubplot at 0x99980ffd0>"
      ]
     },
     "execution_count": 56,
     "metadata": {},
     "output_type": "execute_result"
    },
    {
     "data": {
      "image/png": "[encoded data removed]",
      "text/plain": [
       "<Figure size 576x432 with 2 Axes>"
      ]
     },
     "metadata": {},
     "output_type": "display_data"
    }
   ],
   "source": [
    "plt.figure(figsize=[8,6])\n",
    "sns.heatmap(X,annot=False,cmap='YlGnBu')"
   ]
  },
  {
   "cell_type": "markdown",
   "metadata": {},
   "source": [
    "### Subarray"
   ]
  },
  {
   "cell_type": "code",
   "execution_count": 57,
   "metadata": {},
   "outputs": [
    {
     "data": {
      "image/png": "[encoded data removed]",
      "text/plain": [
       "<Figure size 1080x720 with 8 Axes>"
      ]
     },
     "metadata": {},
     "output_type": "display_data"
    }
   ],
   "source": [
    "plt.figure(figsize=[15,10])\n",
    "\n",
    "plt.subplot(2,2,1)\n",
    "sns.heatmap(X[0:5,0:5],annot=True)\n",
    "\n",
    "plt.subplot(2,2,2)\n",
    "sns.heatmap(X[0:5,5:10],annot=True)\n",
    "\n",
    "plt.subplot(2,2,3)\n",
    "sns.heatmap(X[5:10,0:5],annot=True)\n",
    "\n",
    "plt.subplot(2,2,4)\n",
    "sns.heatmap(X[5:10,5:10],annot=True)\n",
    "\n",
    "plt.show()"
   ]
  },
  {
   "cell_type": "markdown",
   "metadata": {},
   "source": [
    "## Shape:\n",
    "#### Change shape of array from [10 by 10] to [20 by 5]"
   ]
  },
  {
   "cell_type": "markdown",
   "metadata": {},
   "source": [
    "### -Find Array shape"
   ]
  },
  {
   "cell_type": "code",
   "execution_count": 58,
   "metadata": {},
   "outputs": [
    {
     "data": {
      "text/plain": [
       "(10, 10)"
      ]
     },
     "execution_count": 58,
     "metadata": {},
     "output_type": "execute_result"
    }
   ],
   "source": [
    "X.shape"
   ]
  },
  {
   "cell_type": "markdown",
   "metadata": {},
   "source": [
    "###  -Modify shape"
   ]
  },
  {
   "cell_type": "code",
   "execution_count": 59,
   "metadata": {},
   "outputs": [
    {
     "data": {
      "text/plain": [
       "array([[5.79567500e-02, 4.91328913e-01, 8.42052242e-01, 7.98260043e-01,\n",
       "        6.53454609e-01],\n",
       "       [7.22813741e-01, 6.56096867e-01, 2.11117093e-01, 2.24150232e-01,\n",
       "        9.63121685e-01],\n",
       "       [9.90182678e-01, 4.36995549e-01, 3.91793095e-01, 1.37170925e-01,\n",
       "        7.58794367e-01],\n",
       "       [3.45784200e-01, 6.78549978e-01, 8.25352471e-01, 5.84745519e-01,\n",
       "        4.57111060e-01],\n",
       "       [8.86763342e-01, 2.49371845e-01, 1.93487293e-01, 4.65081989e-01,\n",
       "        2.47464738e-01],\n",
       "       [9.86660441e-02, 7.57783134e-01, 5.23164804e-01, 6.99342768e-01,\n",
       "        7.91267991e-01],\n",
       "       [7.43026249e-01, 1.98256963e-01, 8.30445866e-01, 4.37418269e-01,\n",
       "        1.05106229e-01],\n",
       "       [4.20278325e-01, 3.72586475e-02, 8.30004311e-01, 9.69279002e-01,\n",
       "        5.99971999e-01],\n",
       "       [9.52132330e-01, 4.72863555e-01, 1.99017542e-01, 8.90744662e-01,\n",
       "        1.21465748e-01],\n",
       "       [2.20349129e-01, 2.36207166e-02, 1.30920144e-01, 5.14549729e-02,\n",
       "        3.61969177e-01],\n",
       "       [2.47898008e-01, 3.30274893e-01, 9.50088846e-01, 1.49821200e-01,\n",
       "        9.63023115e-01],\n",
       "       [7.90886629e-01, 2.37719816e-01, 9.78603499e-01, 3.40832943e-01,\n",
       "        2.37975428e-01],\n",
       "       [4.21871248e-01, 5.87658836e-01, 2.71410013e-01, 5.09089767e-01,\n",
       "        9.62632187e-01],\n",
       "       [9.26135365e-01, 5.08155764e-01, 6.23741603e-02, 6.11957413e-01,\n",
       "        2.05868727e-01],\n",
       "       [1.23010090e-01, 9.08948441e-01, 1.72282140e-01, 5.73874339e-01,\n",
       "        1.06974459e-01],\n",
       "       [6.58202245e-01, 3.92722967e-01, 9.21340058e-01, 9.38730831e-01,\n",
       "        6.07889540e-02],\n",
       "       [6.37976771e-01, 2.02362500e-01, 5.14708849e-01, 1.84420474e-01,\n",
       "        7.76834699e-01],\n",
       "       [2.59067212e-01, 1.96818314e-01, 6.66304024e-01, 2.44429119e-01,\n",
       "        8.13885955e-01],\n",
       "       [9.20964462e-01, 2.72592675e-01, 7.54798380e-04, 7.80270640e-01,\n",
       "        3.12385543e-01],\n",
       "       [3.67750173e-01, 7.19503348e-01, 5.25392276e-02, 9.58597753e-01,\n",
       "        6.47709660e-01]])"
      ]
     },
     "execution_count": 59,
     "metadata": {},
     "output_type": "execute_result"
    }
   ],
   "source": [
    "X.shape= (20,5)\n",
    "X"
   ]
  },
  {
   "cell_type": "markdown",
   "metadata": {},
   "source": [
    "### Reshaping the array:"
   ]
  },
  {
   "cell_type": "code",
   "execution_count": 60,
   "metadata": {},
   "outputs": [
    {
     "data": {
      "text/plain": [
       "(18,\n",
       " array([ 0,  2,  4,  6,  8, 10, 12, 14, 16, 18, 20, 22, 24, 26, 28, 30, 32,\n",
       "        34]))"
      ]
     },
     "execution_count": 60,
     "metadata": {},
     "output_type": "execute_result"
    }
   ],
   "source": [
    "X=np.arange(0,35,2) #start,end and increment\n",
    "len(X),X"
   ]
  },
  {
   "cell_type": "code",
   "execution_count": 61,
   "metadata": {},
   "outputs": [
    {
     "data": {
      "text/plain": [
       "(35,\n",
       " array([ 0,  1,  2,  3,  4,  5,  6,  7,  8,  9, 10, 11, 12, 13, 14, 15, 16,\n",
       "        17, 18, 19, 20, 21, 22, 23, 24, 25, 26, 27, 28, 29, 30, 31, 32, 33,\n",
       "        34]))"
      ]
     },
     "execution_count": 61,
     "metadata": {},
     "output_type": "execute_result"
    }
   ],
   "source": [
    "X=np.arange(0,35,1) #start,end and incriment\n",
    "len(X),X"
   ]
  },
  {
   "cell_type": "code",
   "execution_count": 65,
   "metadata": {},
   "outputs": [
    {
     "data": {
      "text/plain": [
       "(18,\n",
       " array([ 0.        ,  2.05882353,  4.11764706,  6.17647059,  8.23529412,\n",
       "        10.29411765, 12.35294118, 14.41176471, 16.47058824, 18.52941176,\n",
       "        20.58823529, 22.64705882, 24.70588235, 26.76470588, 28.82352941,\n",
       "        30.88235294, 32.94117647, 35.        ]))"
      ]
     },
     "execution_count": 65,
     "metadata": {},
     "output_type": "execute_result"
    }
   ],
   "source": [
    "Y=np.linspace(0,35,18) #start,end and steps\n",
    "len(Y),Y"
   ]
  },
  {
   "cell_type": "code",
   "execution_count": 73,
   "metadata": {},
   "outputs": [],
   "source": [
    "XX=np.reshape(X, (7,5))\n"
   ]
  },
  {
   "cell_type": "code",
   "execution_count": 74,
   "metadata": {},
   "outputs": [
    {
     "data": {
      "text/plain": [
       "array([[ 0,  1,  2,  3,  4],\n",
       "       [ 5,  6,  7,  8,  9],\n",
       "       [10, 11, 12, 13, 14],\n",
       "       [15, 16, 17, 18, 19],\n",
       "       [20, 21, 22, 23, 24],\n",
       "       [25, 26, 27, 28, 29],\n",
       "       [30, 31, 32, 33, 34]])"
      ]
     },
     "execution_count": 74,
     "metadata": {},
     "output_type": "execute_result"
    }
   ],
   "source": [
    "XX"
   ]
  },
  {
   "cell_type": "code",
   "execution_count": 80,
   "metadata": {},
   "outputs": [
    {
     "data": {
      "text/plain": [
       "array([[ 0,  1,  2,  3,  4],\n",
       "       [ 5,  6,  7,  8,  9],\n",
       "       [10, 11, 12, 13, 14],\n",
       "       [15, 16, 17, 18, 19],\n",
       "       [20, 21, 22, 23, 24],\n",
       "       [25, 26, 27, 28, 29],\n",
       "       [30, 31, 32, 33, 34],\n",
       "       [35, 36, 37, 38, 39]])"
      ]
     },
     "execution_count": 80,
     "metadata": {},
     "output_type": "execute_result"
    }
   ],
   "source": [
    "X=np.arange(40).reshape(8,5)\n",
    "X\n",
    "#X.flatten()"
   ]
  },
  {
   "cell_type": "markdown",
   "metadata": {},
   "source": [
    "## Flatten the Array"
   ]
  },
  {
   "cell_type": "code",
   "execution_count": 82,
   "metadata": {},
   "outputs": [
    {
     "data": {
      "text/plain": [
       "(20,)"
      ]
     },
     "execution_count": 82,
     "metadata": {},
     "output_type": "execute_result"
    }
   ],
   "source": [
    "X=np.random.rand(4,5)\n",
    "Y=X.flatten()\n",
    "Y.shape"
   ]
  },
  {
   "cell_type": "code",
   "execution_count": 83,
   "metadata": {},
   "outputs": [
    {
     "data": {
      "text/plain": [
       "array([[0.6233297 , 0.219812  , 0.9738618 , 0.2871668 , 0.67830843],\n",
       "       [0.9905452 , 0.88575993, 0.00402751, 0.44816532, 0.27684634],\n",
       "       [0.61220081, 0.60954888, 0.82916528, 0.2763032 , 0.07200319],\n",
       "       [0.33174633, 0.56046493, 0.56495094, 0.10260494, 0.48853033]])"
      ]
     },
     "execution_count": 83,
     "metadata": {},
     "output_type": "execute_result"
    }
   ],
   "source": [
    "X"
   ]
  },
  {
   "cell_type": "code",
   "execution_count": 84,
   "metadata": {},
   "outputs": [
    {
     "data": {
      "text/plain": [
       "numpy.ndarray"
      ]
     },
     "execution_count": 84,
     "metadata": {},
     "output_type": "execute_result"
    }
   ],
   "source": [
    "type(X)"
   ]
  },
  {
   "cell_type": "code",
   "execution_count": 85,
   "metadata": {},
   "outputs": [
    {
     "data": {
      "text/plain": [
       "array([0.6233297 , 0.219812  , 0.9738618 , 0.2871668 , 0.67830843,\n",
       "       0.9905452 , 0.88575993, 0.00402751, 0.44816532, 0.27684634,\n",
       "       0.61220081, 0.60954888, 0.82916528, 0.2763032 , 0.07200319,\n",
       "       0.33174633, 0.56046493, 0.56495094, 0.10260494, 0.48853033])"
      ]
     },
     "execution_count": 85,
     "metadata": {},
     "output_type": "execute_result"
    }
   ],
   "source": [
    "Y=X.flatten()\n",
    "Y"
   ]
  },
  {
   "cell_type": "markdown",
   "metadata": {},
   "source": [
    "## Concatenate the Array"
   ]
  },
  {
   "cell_type": "code",
   "execution_count": 86,
   "metadata": {},
   "outputs": [
    {
     "data": {
      "text/plain": [
       "(array([[1, 2],\n",
       "        [3, 4]]),\n",
       " array([[5, 6],\n",
       "        [7, 8]]))"
      ]
     },
     "execution_count": 86,
     "metadata": {},
     "output_type": "execute_result"
    }
   ],
   "source": [
    "P=np.array([[1,2],[3,4]])\n",
    "Q=np.array([[5,6],[7,8]])\n",
    "P,Q"
   ]
  },
  {
   "cell_type": "code",
   "execution_count": 89,
   "metadata": {},
   "outputs": [
    {
     "data": {
      "text/plain": [
       "array([[1, 2],\n",
       "       [3, 4],\n",
       "       [5, 6],\n",
       "       [7, 8]])"
      ]
     },
     "execution_count": 89,
     "metadata": {},
     "output_type": "execute_result"
    }
   ],
   "source": [
    "R=np.concatenate((P,Q),axis=0) # axis=0 means vertically\n",
    "R"
   ]
  },
  {
   "cell_type": "code",
   "execution_count": 90,
   "metadata": {},
   "outputs": [
    {
     "data": {
      "text/plain": [
       "array([[1, 2, 5, 6],\n",
       "       [3, 4, 7, 8]])"
      ]
     },
     "execution_count": 90,
     "metadata": {},
     "output_type": "execute_result"
    }
   ],
   "source": [
    "S=np.concatenate((P,Q),axis=1) #axis=1 means horizontally\n",
    "S"
   ]
  },
  {
   "cell_type": "code",
   "execution_count": 98,
   "metadata": {},
   "outputs": [
    {
     "data": {
      "text/plain": [
       "(array([[0.58195965, 0.09709993, 0.38794168, 0.40082834],\n",
       "        [0.68164272, 0.08096769, 0.42343995, 0.19657214],\n",
       "        [0.57579944, 0.41198282, 0.93828539, 0.34801734]]),\n",
       " array([[0.04917467, 0.95923878, 0.08149925, 0.89088004],\n",
       "        [0.54795602, 0.30384891, 0.93276308, 0.41682855],\n",
       "        [0.8152183 , 0.03718634, 0.2896202 , 0.92052616]]))"
      ]
     },
     "execution_count": 98,
     "metadata": {},
     "output_type": "execute_result"
    }
   ],
   "source": [
    "A = np.random.rand(3,4)\n",
    "B = np.random.rand(3,4)\n",
    "A, B"
   ]
  },
  {
   "cell_type": "markdown",
   "metadata": {},
   "source": [
    "### Vertical addition"
   ]
  },
  {
   "cell_type": "code",
   "execution_count": 99,
   "metadata": {},
   "outputs": [
    {
     "data": {
      "text/plain": [
       "array([[0.58195965, 0.09709993, 0.38794168, 0.40082834],\n",
       "       [0.68164272, 0.08096769, 0.42343995, 0.19657214],\n",
       "       [0.57579944, 0.41198282, 0.93828539, 0.34801734],\n",
       "       [0.04917467, 0.95923878, 0.08149925, 0.89088004],\n",
       "       [0.54795602, 0.30384891, 0.93276308, 0.41682855],\n",
       "       [0.8152183 , 0.03718634, 0.2896202 , 0.92052616]])"
      ]
     },
     "execution_count": 99,
     "metadata": {},
     "output_type": "execute_result"
    }
   ],
   "source": [
    "C=np.concatenate((A,B),axis=0)\n",
    "C"
   ]
  },
  {
   "cell_type": "markdown",
   "metadata": {},
   "source": [
    "### Horizontal addition"
   ]
  },
  {
   "cell_type": "code",
   "execution_count": 100,
   "metadata": {},
   "outputs": [
    {
     "data": {
      "text/plain": [
       "array([[0.58195965, 0.09709993, 0.38794168, 0.40082834, 0.04917467,\n",
       "        0.95923878, 0.08149925, 0.89088004],\n",
       "       [0.68164272, 0.08096769, 0.42343995, 0.19657214, 0.54795602,\n",
       "        0.30384891, 0.93276308, 0.41682855],\n",
       "       [0.57579944, 0.41198282, 0.93828539, 0.34801734, 0.8152183 ,\n",
       "        0.03718634, 0.2896202 , 0.92052616]])"
      ]
     },
     "execution_count": 100,
     "metadata": {},
     "output_type": "execute_result"
    }
   ],
   "source": [
    "D=np.concatenate((A,B),axis=1)\n",
    "D"
   ]
  },
  {
   "cell_type": "markdown",
   "metadata": {},
   "source": [
    "## Row sum and Column sum"
   ]
  },
  {
   "cell_type": "code",
   "execution_count": 101,
   "metadata": {},
   "outputs": [],
   "source": [
    "X=np.random.rand(8,6)"
   ]
  },
  {
   "cell_type": "markdown",
   "metadata": {},
   "source": [
    "### sum of all elements"
   ]
  },
  {
   "cell_type": "code",
   "execution_count": 102,
   "metadata": {},
   "outputs": [
    {
     "data": {
      "text/plain": [
       "27.014781763624057"
      ]
     },
     "execution_count": 102,
     "metadata": {},
     "output_type": "execute_result"
    }
   ],
   "source": [
    "X.sum()"
   ]
  },
  {
   "cell_type": "markdown",
   "metadata": {},
   "source": [
    "### Row sum"
   ]
  },
  {
   "cell_type": "code",
   "execution_count": 103,
   "metadata": {},
   "outputs": [
    {
     "data": {
      "text/plain": [
       "array([3.0103861 , 3.74838937, 2.36256772, 4.31272927, 2.62562466,\n",
       "       4.07482183, 3.61508382, 3.26517898])"
      ]
     },
     "execution_count": 103,
     "metadata": {},
     "output_type": "execute_result"
    }
   ],
   "source": [
    "np.sum(X,axis=1)"
   ]
  },
  {
   "cell_type": "code",
   "execution_count": 104,
   "metadata": {},
   "outputs": [],
   "source": [
    "P=np.array([[1,2],[3,4]])\n",
    "Q=np.array([[5,6],[7,8]])"
   ]
  },
  {
   "cell_type": "code",
   "execution_count": 105,
   "metadata": {},
   "outputs": [
    {
     "data": {
      "text/plain": [
       "(10, 26)"
      ]
     },
     "execution_count": 105,
     "metadata": {},
     "output_type": "execute_result"
    }
   ],
   "source": [
    "np.sum(P),np.sum(Q)"
   ]
  },
  {
   "cell_type": "code",
   "execution_count": 106,
   "metadata": {},
   "outputs": [
    {
     "data": {
      "text/plain": [
       "array([3, 7])"
      ]
     },
     "execution_count": 106,
     "metadata": {},
     "output_type": "execute_result"
    }
   ],
   "source": [
    "np.sum(P,axis=1) #addition of row"
   ]
  },
  {
   "cell_type": "code",
   "execution_count": 107,
   "metadata": {},
   "outputs": [
    {
     "data": {
      "text/plain": [
       "array([4, 6])"
      ]
     },
     "execution_count": 107,
     "metadata": {},
     "output_type": "execute_result"
    }
   ],
   "source": [
    "np.sum(P,axis=0)"
   ]
  },
  {
   "cell_type": "markdown",
   "metadata": {},
   "source": [
    "### Column sum"
   ]
  },
  {
   "cell_type": "code",
   "execution_count": 108,
   "metadata": {},
   "outputs": [
    {
     "data": {
      "text/plain": [
       "array([4.26822739, 3.56749246, 3.65962842, 5.12506862, 4.91092987,\n",
       "       5.483435  ])"
      ]
     },
     "execution_count": 108,
     "metadata": {},
     "output_type": "execute_result"
    }
   ],
   "source": [
    "np.sum(X,axis=0)"
   ]
  }
 ],
 "metadata": {
  "kernelspec": {
   "display_name": "Python 3",
   "language": "python",
   "name": "python3"
  },
  "language_info": {
   "codemirror_mode": {
    "name": "ipython",
    "version": 3
   },
   "file_extension": ".py",
   "mimetype": "text/x-python",
   "name": "python",
   "nbconvert_exporter": "python",
   "pygments_lexer": "ipython3",
   "version": "3.8.3"
  }
 },
 "nbformat": 4,
 "nbformat_minor": 4
}
